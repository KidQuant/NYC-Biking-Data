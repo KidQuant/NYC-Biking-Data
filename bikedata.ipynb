{
 "cells": [
  {
   "cell_type": "code",
   "execution_count": 2,
   "metadata": {},
   "outputs": [
    {
     "name": "stderr",
     "output_type": "stream",
     "text": [
      "C:\\Users\\drebi\\AppData\\Local\\Temp\\ipykernel_166888\\3405702770.py:4: DtypeWarning: Columns (3) have mixed types. Specify dtype option on import or set low_memory=False.\n",
      "  df = pd.read_csv('crashes.csv')\n"
     ]
    },
    {
     "name": "stdout",
     "output_type": "stream",
     "text": [
      "<class 'pandas.core.frame.DataFrame'>\n",
      "RangeIndex: 2076488 entries, 0 to 2076487\n",
      "Data columns (total 29 columns):\n",
      " #   Column                         Dtype  \n",
      "---  ------                         -----  \n",
      " 0   CRASH DATE                     object \n",
      " 1   CRASH TIME                     object \n",
      " 2   BOROUGH                        object \n",
      " 3   ZIP CODE                       object \n",
      " 4   LATITUDE                       float64\n",
      " 5   LONGITUDE                      float64\n",
      " 6   LOCATION                       object \n",
      " 7   ON STREET NAME                 object \n",
      " 8   CROSS STREET NAME              object \n",
      " 9   OFF STREET NAME                object \n",
      " 10  NUMBER OF PERSONS INJURED      float64\n",
      " 11  NUMBER OF PERSONS KILLED       float64\n",
      " 12  NUMBER OF PEDESTRIANS INJURED  int64  \n",
      " 13  NUMBER OF PEDESTRIANS KILLED   int64  \n",
      " 14  NUMBER OF CYCLIST INJURED      int64  \n",
      " 15  NUMBER OF CYCLIST KILLED       int64  \n",
      " 16  NUMBER OF MOTORIST INJURED     int64  \n",
      " 17  NUMBER OF MOTORIST KILLED      int64  \n",
      " 18  CONTRIBUTING FACTOR VEHICLE 1  object \n",
      " 19  CONTRIBUTING FACTOR VEHICLE 2  object \n",
      " 20  CONTRIBUTING FACTOR VEHICLE 3  object \n",
      " 21  CONTRIBUTING FACTOR VEHICLE 4  object \n",
      " 22  CONTRIBUTING FACTOR VEHICLE 5  object \n",
      " 23  COLLISION_ID                   int64  \n",
      " 24  VEHICLE TYPE CODE 1            object \n",
      " 25  VEHICLE TYPE CODE 2            object \n",
      " 26  VEHICLE TYPE CODE 3            object \n",
      " 27  VEHICLE TYPE CODE 4            object \n",
      " 28  VEHICLE TYPE CODE 5            object \n",
      "dtypes: float64(4), int64(7), object(18)\n",
      "memory usage: 459.4+ MB\n"
     ]
    }
   ],
   "source": [
    "import pandas as pd\n",
    "import matplotlib.pyplot as plt\n",
    "\n",
    "df = pd.read_csv('crashes.csv')\n",
    "df.info()"
   ]
  },
  {
   "cell_type": "code",
   "execution_count": 3,
   "metadata": {},
   "outputs": [],
   "source": [
    "## Let's get only rows with cyclist involved\n",
    "##all accidents involving bikes, anything above 0\n",
    "\n",
    "df = df[(df['NUMBER OF CYCLIST INJURED'] > 0) | (df['NUMBER OF CYCLIST KILLED'] > 0)]\n",
    "\n",
    "df = df.reset_index(drop=True) # drop index and create dataframe"
   ]
  },
  {
   "cell_type": "code",
   "execution_count": 4,
   "metadata": {},
   "outputs": [
    {
     "name": "stdout",
     "output_type": "stream",
     "text": [
      "<class 'pandas.core.frame.DataFrame'>\n",
      "RangeIndex: 55228 entries, 0 to 55227\n",
      "Data columns (total 29 columns):\n",
      " #   Column                         Non-Null Count  Dtype  \n",
      "---  ------                         --------------  -----  \n",
      " 0   CRASH DATE                     55228 non-null  object \n",
      " 1   CRASH TIME                     55228 non-null  object \n",
      " 2   BOROUGH                        42807 non-null  object \n",
      " 3   ZIP CODE                       42805 non-null  object \n",
      " 4   LATITUDE                       51343 non-null  float64\n",
      " 5   LONGITUDE                      51343 non-null  float64\n",
      " 6   LOCATION                       51343 non-null  object \n",
      " 7   ON STREET NAME                 46507 non-null  object \n",
      " 8   CROSS STREET NAME              38709 non-null  object \n",
      " 9   OFF STREET NAME                8652 non-null   object \n",
      " 10  NUMBER OF PERSONS INJURED      55226 non-null  float64\n",
      " 11  NUMBER OF PERSONS KILLED       55227 non-null  float64\n",
      " 12  NUMBER OF PEDESTRIANS INJURED  55228 non-null  int64  \n",
      " 13  NUMBER OF PEDESTRIANS KILLED   55228 non-null  int64  \n",
      " 14  NUMBER OF CYCLIST INJURED      55228 non-null  int64  \n",
      " 15  NUMBER OF CYCLIST KILLED       55228 non-null  int64  \n",
      " 16  NUMBER OF MOTORIST INJURED     55228 non-null  int64  \n",
      " 17  NUMBER OF MOTORIST KILLED      55228 non-null  int64  \n",
      " 18  CONTRIBUTING FACTOR VEHICLE 1  55210 non-null  object \n",
      " 19  CONTRIBUTING FACTOR VEHICLE 2  51254 non-null  object \n",
      " 20  CONTRIBUTING FACTOR VEHICLE 3  1241 non-null   object \n",
      " 21  CONTRIBUTING FACTOR VEHICLE 4  136 non-null    object \n",
      " 22  CONTRIBUTING FACTOR VEHICLE 5  45 non-null     object \n",
      " 23  COLLISION_ID                   55228 non-null  int64  \n",
      " 24  VEHICLE TYPE CODE 1            55208 non-null  object \n",
      " 25  VEHICLE TYPE CODE 2            49622 non-null  object \n",
      " 26  VEHICLE TYPE CODE 3            1213 non-null   object \n",
      " 27  VEHICLE TYPE CODE 4            133 non-null    object \n",
      " 28  VEHICLE TYPE CODE 5            47 non-null     object \n",
      "dtypes: float64(4), int64(7), object(18)\n",
      "memory usage: 12.2+ MB\n"
     ]
    }
   ],
   "source": [
    "df.info() # 72 data point, and some missing data"
   ]
  },
  {
   "cell_type": "code",
   "execution_count": 5,
   "metadata": {},
   "outputs": [],
   "source": [
    "df = df[df['VEHICLE TYPE CODE 2'].notna()]\n",
    "df = df[df['LOCATION'].notna()] # if no location, then drop it"
   ]
  },
  {
   "cell_type": "code",
   "execution_count": null,
   "metadata": {},
   "outputs": [],
   "source": [
    "# clean up column titles for easier accessiblity\n",
    "\n",
    "df.columns = [x.lower() for x in df.columns]  #lower case columns\n",
    "df.columns = [x.]"
   ]
  }
 ],
 "metadata": {
  "kernelspec": {
   "display_name": "Python 3",
   "language": "python",
   "name": "python3"
  },
  "language_info": {
   "codemirror_mode": {
    "name": "ipython",
    "version": 3
   },
   "file_extension": ".py",
   "mimetype": "text/x-python",
   "name": "python",
   "nbconvert_exporter": "python",
   "pygments_lexer": "ipython3",
   "version": "3.12.2"
  }
 },
 "nbformat": 4,
 "nbformat_minor": 2
}
